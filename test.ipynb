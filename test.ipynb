{
 "cells": [
  {
   "cell_type": "code",
   "execution_count": null,
   "metadata": {},
   "outputs": [],
   "source": [
    "ents=[\n",
    "    \"sodium-glucose co-transporter type 2 (sglt2) inhibitors\", \"inhibitor of sglt2\",  \"anti-egfr agent erlotinib\", \"pi3k delta isoform\",\n",
    "    \"uck2 expression\", \"reducing cyp27a1 expression\", \"autoantibodies against alpha-fetoprotein\",\n",
    "    \"gene encoding ubiquitin\", \"interleukin 5 (il-5) mediated diseases\", \"sub-eosinophilic asthma\",\n",
    "    \"vp1 protein of gii.17 hunov\", \"non-competitive mglur2 antagonists\",\n",
    "    \"mglur2 negative allosteric modulators\", \"inhibitor of angiopoietin-like protein-3 (angptl3)\",\n",
    "    \"2-phenylethylamino substituted carboxamide derivatives\",\n",
    "    \"inhibit the proliferation of tumor cells\", \"unregulated microglia phagocytic activity\",\n",
    "]\n",
    "\n",
    "import logging\n",
    "import sys\n",
    "\n",
    "logging.basicConfig(stream=sys.stdout, level=logging.INFO)\n",
    "sys.path.append(\"../binder/src\")\n",
    "\n",
    "from core.ner import NerTagger\n",
    "tagger = NerTagger(link=True, rule_sets=[], entity_types=frozenset([\"biologics\", \"compounds\", \"diseases\", \"mechanisms\"]))"
   ]
  },
  {
   "cell_type": "code",
   "execution_count": null,
   "metadata": {},
   "outputs": [],
   "source": [
    "# It also has use in and CEA-targeted CAR-T Therapy.\n",
    "text1 = \"This disclosure relates to oligonucleotides, compositions and methods useful for reducing cyp27a1 expression, particularly in hepatocytes. Disclosed oligonucleotides for the reduction of CYP27A1 expression may be double-stranded or single-stranded and may be modified for improved characteristics such as stronger resistance to nucleases and lower immunogenicity. Disclosed oligonucleotides for the reduction of CYP27A1 expression may also include targeting ligands to target a particular cell or organ, such as the hepatocytes of the liver, and may be used to treat hepatobiliary disease and related conditions such as liver fibrosis\"\n",
    "ents = tagger([text1])[0]\n",
    "[ent for ent in ents]\n"
   ]
  },
  {
   "cell_type": "code",
   "execution_count": null,
   "metadata": {},
   "outputs": [],
   "source": [
    "text2=\"The present invention provides quinoline carboxamide and quinoline carbonitrile compounds of formula (I) or a pharmaceutically acceptable salt thereof, wherein R 1 , R 2 , L, X 1 , X 2 , and X 3 , are as defined herein. The compounds of the invention, and pharmaceutically acceptable salts thereof, and pharmaceutical compositions comprising them, are useful as non-competitive mGluR2 antagonists, or mGluR2 negative allosteric modulators (NAMs), and may be useful in methods of treating a person in need thereof for diseases or disorders in which the mGluR2-NAM receptor plays a causative role, such as Alzheimer&#39;s disease, cognitive impairment, schizophrenia and other mood disorders, pain disorders and sleep disorders.\"\n",
    "ents = tagger([text2])[0]\n",
    "[ent for ent in ents]\n"
   ]
  },
  {
   "cell_type": "code",
   "execution_count": null,
   "metadata": {},
   "outputs": [],
   "source": [
    "text3=\"Novel genetic variants of the cytochrome p450, subfamily xxviia (steroid 27-hydroxylase, cerebrotendinous xanthomatosis), polypeptide 1 (cyp27a1) gene are described. Various genotypes, haplotypes, and haplotype pairs that exist in the general United States population are disclosed for the CYP27A1 gene. Compositions and methods for haplotyping and/or genotyping the cyp27a1 gene in an individual are also disclosed. Polynucleotides defined by the haplotypes disclosed herein are also described.\"\n",
    "ents = tagger([text3])[0]"
   ]
  },
  {
   "cell_type": "code",
   "execution_count": null,
   "metadata": {},
   "outputs": [],
   "source": [
    "[ent for ent in ents]"
   ]
  },
  {
   "cell_type": "code",
   "execution_count": null,
   "metadata": {},
   "outputs": [],
   "source": [
    "text3=\"Novel genetic variants of polypeptide 1 (cyp27a1) gene are described.\"\n",
    "ents = tagger([text3])[0]\n",
    "[ent for ent in ents]"
   ]
  },
  {
   "cell_type": "code",
   "execution_count": null,
   "metadata": {},
   "outputs": [],
   "source": [
    "text2=\"These compounds are useful as non-competitive mGluR2 antagonists, or mGluR2 negative allosteric modulators (NAMs)\"\n",
    "ents = tagger([text2])[0]\n",
    "[ent for ent in ents]"
   ]
  },
  {
   "cell_type": "code",
   "execution_count": 15,
   "metadata": {},
   "outputs": [
    {
     "name": "stdout",
     "output_type": "stream",
     "text": [
      "(?:activators?|agonists?|antagonists?|amplifiers?|binders?|blockers?|chaperones?|catalysts?|degraders?|desensitizers?|disruptors?|disintegrators?|desiccants?|engagers?|enhancers?|emulsifiers?|immunosuppressants?|inactivators?|inducers?|inhibitors?|initiators?|introducers?|mimetics?|modulators?|modifiers?|oxidizers?|promoters?|potentiators?|regenerators?|suppressors?|stimulators?|sensitizers?|stabilizers?|thickeners?|transporters?)\n",
      "<re.Match object; span=(0, 17), match='xyz modulators dd'>\n"
     ]
    }
   ],
   "source": [
    "import re\n",
    "from constants.patterns.intervention import PRIMARY_MECHANISM_BASE_TERMS\n",
    "\n",
    "from utils.re import get_or_re\n",
    "\n",
    "\n",
    "print(get_or_re(list(PRIMARY_MECHANISM_BASE_TERMS.values())))\n",
    "print(re.match(\".*\" + get_or_re(list(PRIMARY_MECHANISM_BASE_TERMS.values())) + \".*\", \"xyz modulators dd\", re.IGNORECASE))"
   ]
  }
 ],
 "metadata": {
  "kernelspec": {
   "display_name": "Python 3",
   "language": "python",
   "name": "python3"
  },
  "language_info": {
   "codemirror_mode": {
    "name": "ipython",
    "version": 3
   },
   "file_extension": ".py",
   "mimetype": "text/x-python",
   "name": "python",
   "nbconvert_exporter": "python",
   "pygments_lexer": "ipython3",
   "version": "3.11.4"
  }
 },
 "nbformat": 4,
 "nbformat_minor": 2
}
