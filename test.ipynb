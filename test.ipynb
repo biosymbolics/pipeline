{
 "cells": [
  {
   "cell_type": "code",
   "execution_count": 2,
   "metadata": {},
   "outputs": [
    {
     "ename": "KeyboardInterrupt",
     "evalue": "",
     "output_type": "error",
     "traceback": [
      "\u001b[0;31m---------------------------------------------------------------------------\u001b[0m",
      "\u001b[0;31mKeyboardInterrupt\u001b[0m                         Traceback (most recent call last)",
      "Cell \u001b[0;32mIn[2], line 17\u001b[0m\n\u001b[1;32m     14\u001b[0m logging\u001b[38;5;241m.\u001b[39mbasicConfig(stream\u001b[38;5;241m=\u001b[39msys\u001b[38;5;241m.\u001b[39mstdout, level\u001b[38;5;241m=\u001b[39mlogging\u001b[38;5;241m.\u001b[39mINFO)\n\u001b[1;32m     15\u001b[0m sys\u001b[38;5;241m.\u001b[39mpath\u001b[38;5;241m.\u001b[39mappend(\u001b[38;5;124m\"\u001b[39m\u001b[38;5;124m../binder/src\u001b[39m\u001b[38;5;124m\"\u001b[39m)\n\u001b[0;32m---> 17\u001b[0m \u001b[38;5;28;01mfrom\u001b[39;00m \u001b[38;5;21;01mcore\u001b[39;00m\u001b[38;5;21;01m.\u001b[39;00m\u001b[38;5;21;01mner\u001b[39;00m \u001b[38;5;28;01mimport\u001b[39;00m NerTagger\n\u001b[1;32m     18\u001b[0m tagger \u001b[38;5;241m=\u001b[39m NerTagger(link\u001b[38;5;241m=\u001b[39m\u001b[38;5;28;01mTrue\u001b[39;00m, rule_sets\u001b[38;5;241m=\u001b[39m[], entity_types\u001b[38;5;241m=\u001b[39m\u001b[38;5;28mfrozenset\u001b[39m([\u001b[38;5;124m\"\u001b[39m\u001b[38;5;124mbiologics\u001b[39m\u001b[38;5;124m\"\u001b[39m, \u001b[38;5;124m\"\u001b[39m\u001b[38;5;124mcompounds\u001b[39m\u001b[38;5;124m\"\u001b[39m, \u001b[38;5;124m\"\u001b[39m\u001b[38;5;124mdiseases\u001b[39m\u001b[38;5;124m\"\u001b[39m, \u001b[38;5;124m\"\u001b[39m\u001b[38;5;124mmechanisms\u001b[39m\u001b[38;5;124m\"\u001b[39m]))\n",
      "File \u001b[0;32m~/development/pipeline/./src/core/ner/__init__.py:5\u001b[0m\n\u001b[1;32m      1\u001b[0m \u001b[38;5;124;03m\"\"\"\u001b[39;00m\n\u001b[1;32m      2\u001b[0m \u001b[38;5;124;03mNER module\u001b[39;00m\n\u001b[1;32m      3\u001b[0m \u001b[38;5;124;03m\"\"\"\u001b[39;00m\n\u001b[1;32m      4\u001b[0m \u001b[38;5;66;03m# from .classifier import classify_by_keywords\u001b[39;00m\n\u001b[0;32m----> 5\u001b[0m \u001b[38;5;28;01mfrom\u001b[39;00m \u001b[38;5;21;01m.\u001b[39;00m\u001b[38;5;21;01mner\u001b[39;00m \u001b[38;5;28;01mimport\u001b[39;00m NerTagger\n\u001b[1;32m      6\u001b[0m \u001b[38;5;28;01mfrom\u001b[39;00m \u001b[38;5;21;01m.\u001b[39;00m\u001b[38;5;21;01mlinker\u001b[39;00m\u001b[38;5;21;01m.\u001b[39;00m\u001b[38;5;21;01mlinker\u001b[39;00m \u001b[38;5;28;01mimport\u001b[39;00m TermLinker\n\u001b[1;32m      7\u001b[0m \u001b[38;5;28;01mfrom\u001b[39;00m \u001b[38;5;21;01m.\u001b[39;00m\u001b[38;5;21;01mnormalizer\u001b[39;00m \u001b[38;5;28;01mimport\u001b[39;00m TermNormalizer\n",
      "File \u001b[0;32m~/development/pipeline/./src/core/ner/ner.py:12\u001b[0m\n\u001b[1;32m     10\u001b[0m \u001b[38;5;28;01mimport\u001b[39;00m \u001b[38;5;21;01mlogging\u001b[39;00m\n\u001b[1;32m     11\u001b[0m \u001b[38;5;28;01mimport\u001b[39;00m \u001b[38;5;21;01mhtml\u001b[39;00m\n\u001b[0;32m---> 12\u001b[0m \u001b[38;5;28;01mfrom\u001b[39;00m \u001b[38;5;21;01mspacy\u001b[39;00m\u001b[38;5;21;01m.\u001b[39;00m\u001b[38;5;21;01mtokens\u001b[39;00m \u001b[38;5;28;01mimport\u001b[39;00m Span, Doc\n\u001b[1;32m     14\u001b[0m \u001b[38;5;28;01mfrom\u001b[39;00m \u001b[38;5;21;01mcore\u001b[39;00m\u001b[38;5;21;01m.\u001b[39;00m\u001b[38;5;21;01mner\u001b[39;00m\u001b[38;5;21;01m.\u001b[39;00m\u001b[38;5;21;01mcleaning\u001b[39;00m \u001b[38;5;28;01mimport\u001b[39;00m CleanFunction, remove_parentheticals\n\u001b[1;32m     15\u001b[0m \u001b[38;5;28;01mfrom\u001b[39;00m \u001b[38;5;21;01mcore\u001b[39;00m\u001b[38;5;21;01m.\u001b[39;00m\u001b[38;5;21;01mner\u001b[39;00m\u001b[38;5;21;01m.\u001b[39;00m\u001b[38;5;21;01mnormalizer\u001b[39;00m \u001b[38;5;28;01mimport\u001b[39;00m TermNormalizer\n",
      "File \u001b[0;32m/opt/homebrew/lib/python3.11/site-packages/spacy/__init__.py:13\u001b[0m\n\u001b[1;32m     10\u001b[0m \u001b[38;5;66;03m# These are imported as part of the API\u001b[39;00m\n\u001b[1;32m     11\u001b[0m \u001b[38;5;28;01mfrom\u001b[39;00m \u001b[38;5;21;01mthinc\u001b[39;00m\u001b[38;5;21;01m.\u001b[39;00m\u001b[38;5;21;01mapi\u001b[39;00m \u001b[38;5;28;01mimport\u001b[39;00m Config, prefer_gpu, require_cpu, require_gpu  \u001b[38;5;66;03m# noqa: F401\u001b[39;00m\n\u001b[0;32m---> 13\u001b[0m \u001b[38;5;28;01mfrom\u001b[39;00m \u001b[38;5;21;01m.\u001b[39;00m \u001b[38;5;28;01mimport\u001b[39;00m pipeline  \u001b[38;5;66;03m# noqa: F401\u001b[39;00m\n\u001b[1;32m     14\u001b[0m \u001b[38;5;28;01mfrom\u001b[39;00m \u001b[38;5;21;01m.\u001b[39;00m \u001b[38;5;28;01mimport\u001b[39;00m util\n\u001b[1;32m     15\u001b[0m \u001b[38;5;28;01mfrom\u001b[39;00m \u001b[38;5;21;01m.\u001b[39;00m\u001b[38;5;21;01mabout\u001b[39;00m \u001b[38;5;28;01mimport\u001b[39;00m __version__  \u001b[38;5;66;03m# noqa: F401\u001b[39;00m\n",
      "File \u001b[0;32m/opt/homebrew/lib/python3.11/site-packages/spacy/pipeline/__init__.py:2\u001b[0m\n\u001b[1;32m      1\u001b[0m \u001b[38;5;28;01mfrom\u001b[39;00m \u001b[38;5;21;01m.\u001b[39;00m\u001b[38;5;21;01mattributeruler\u001b[39;00m \u001b[38;5;28;01mimport\u001b[39;00m AttributeRuler\n\u001b[0;32m----> 2\u001b[0m \u001b[38;5;28;01mfrom\u001b[39;00m \u001b[38;5;21;01m.\u001b[39;00m\u001b[38;5;21;01mdep_parser\u001b[39;00m \u001b[38;5;28;01mimport\u001b[39;00m DependencyParser\n\u001b[1;32m      3\u001b[0m \u001b[38;5;28;01mfrom\u001b[39;00m \u001b[38;5;21;01m.\u001b[39;00m\u001b[38;5;21;01medit_tree_lemmatizer\u001b[39;00m \u001b[38;5;28;01mimport\u001b[39;00m EditTreeLemmatizer\n\u001b[1;32m      4\u001b[0m \u001b[38;5;28;01mfrom\u001b[39;00m \u001b[38;5;21;01m.\u001b[39;00m\u001b[38;5;21;01mentity_linker\u001b[39;00m \u001b[38;5;28;01mimport\u001b[39;00m EntityLinker\n",
      "File \u001b[0;32m/opt/homebrew/lib/python3.11/site-packages/spacy/pipeline/dep_parser.pyx:1\u001b[0m, in \u001b[0;36minit spacy.pipeline.dep_parser\u001b[0;34m()\u001b[0m\n",
      "File \u001b[0;32m/opt/homebrew/lib/python3.11/site-packages/spacy/pipeline/transition_parser.pyx:1\u001b[0m, in \u001b[0;36minit spacy.pipeline.transition_parser\u001b[0;34m()\u001b[0m\n",
      "File \u001b[0;32m<frozen importlib._bootstrap>:405\u001b[0m, in \u001b[0;36mparent\u001b[0;34m(self)\u001b[0m\n",
      "\u001b[0;31mKeyboardInterrupt\u001b[0m: "
     ]
    }
   ],
   "source": [
    "ents=[\n",
    "    \"sodium-glucose co-transporter type 2 (sglt2) inhibitors\", \"inhibitor of sglt2\",  \"anti-egfr agent erlotinib\", \"pi3k delta isoform\",\n",
    "    \"uck2 expression\", \"reducing cyp27a1 expression\", \"autoantibodies against alpha-fetoprotein\",\n",
    "    \"gene encoding ubiquitin\", \"interleukin 5 (il-5) mediated diseases\", \"sub-eosinophilic asthma\",\n",
    "    \"vp1 protein of gii.17 hunov\", \"non-competitive mglur2 antagonists\",\n",
    "    \"mglur2 negative allosteric modulators\", \"inhibitor of angiopoietin-like protein-3 (angptl3)\",\n",
    "    \"2-phenylethylamino substituted carboxamide derivatives\",\n",
    "    \"inhibit the proliferation of tumor cells\", \"unregulated microglia phagocytic activity\",\n",
    "]\n",
    "\n",
    "import logging\n",
    "import sys\n",
    "\n",
    "logging.basicConfig(stream=sys.stdout, level=logging.INFO)\n",
    "sys.path.append(\"../binder/src\")\n",
    "\n",
    "from core.ner import NerTagger\n",
    "tagger = NerTagger(link=True, rule_sets=[], entity_types=frozenset([\"biologics\", \"compounds\", \"diseases\", \"mechanisms\"]))"
   ]
  },
  {
   "cell_type": "code",
   "execution_count": null,
   "metadata": {},
   "outputs": [],
   "source": [
    "# It also has use in and CEA-targeted CAR-T Therapy.\n",
    "text1 = \"This disclosure relates to oligonucleotides, compositions and methods useful for reducing cyp27a1 expression, particularly in hepatocytes. Disclosed oligonucleotides for the reduction of CYP27A1 expression may be double-stranded or single-stranded and may be modified for improved characteristics such as stronger resistance to nucleases and lower immunogenicity. Disclosed oligonucleotides for the reduction of CYP27A1 expression may also include targeting ligands to target a particular cell or organ, such as the hepatocytes of the liver, and may be used to treat hepatobiliary disease and related conditions such as liver fibrosis\"\n",
    "ents = tagger([text1])[0]\n",
    "[ent for ent in ents]\n"
   ]
  },
  {
   "cell_type": "code",
   "execution_count": null,
   "metadata": {},
   "outputs": [],
   "source": [
    "text2=\"The present invention provides quinoline carboxamide and quinoline carbonitrile compounds of formula (I) or a pharmaceutically acceptable salt thereof, wherein R 1 , R 2 , L, X 1 , X 2 , and X 3 , are as defined herein. The compounds of the invention, and pharmaceutically acceptable salts thereof, and pharmaceutical compositions comprising them, are useful as non-competitive mGluR2 antagonists, or mGluR2 negative allosteric modulators (NAMs), and may be useful in methods of treating a person in need thereof for diseases or disorders in which the mGluR2-NAM receptor plays a causative role, such as Alzheimer&#39;s disease, cognitive impairment, schizophrenia and other mood disorders, pain disorders and sleep disorders.\"\n",
    "ents = tagger([text2])[0]\n",
    "[ent for ent in ents]\n"
   ]
  },
  {
   "cell_type": "code",
   "execution_count": null,
   "metadata": {},
   "outputs": [],
   "source": [
    "text3=\"Novel genetic variants of the cytochrome p450, subfamily xxviia (steroid 27-hydroxylase, cerebrotendinous xanthomatosis), polypeptide 1 (cyp27a1) gene are described. Various genotypes, haplotypes, and haplotype pairs that exist in the general United States population are disclosed for the CYP27A1 gene. Compositions and methods for haplotyping and/or genotyping the cyp27a1 gene in an individual are also disclosed. Polynucleotides defined by the haplotypes disclosed herein are also described.\"\n",
    "ents = tagger([text3])[0]"
   ]
  },
  {
   "cell_type": "code",
   "execution_count": null,
   "metadata": {},
   "outputs": [],
   "source": [
    "[ent for ent in ents]"
   ]
  },
  {
   "cell_type": "code",
   "execution_count": null,
   "metadata": {},
   "outputs": [],
   "source": [
    "text3=\"Novel genetic variants of polypeptide 1 (cyp27a1) gene are described.\"\n",
    "ents = tagger([text3])[0]\n",
    "[ent for ent in ents]"
   ]
  },
  {
   "cell_type": "code",
   "execution_count": null,
   "metadata": {},
   "outputs": [],
   "source": [
    "text2=\"These compounds are useful as non-competitive mGluR2 antagonists, or mGluR2 negative allosteric modulators (NAMs)\"\n",
    "ents = tagger([text2])[0]\n",
    "[ent for ent in ents]"
   ]
  },
  {
   "cell_type": "code",
   "execution_count": null,
   "metadata": {},
   "outputs": [
    {
     "name": "stdout",
     "output_type": "stream",
     "text": [
      "(?:activators?|agonists?|antagonists?|amplifiers?|binders?|blockers?|chaperones?|catalysts?|degraders?|desensitizers?|disruptors?|disintegrators?|desiccants?|engagers?|enhancers?|emulsifiers?|immunosuppressants?|inactivators?|inducers?|inhibitors?|initiators?|introducers?|mimetics?|modulators?|modifiers?|oxidizers?|promoters?|potentiators?|regenerators?|suppressors?|stimulators?|sensitizers?|stabilizers?|thickeners?|transporters?)\n",
      "<re.Match object; span=(0, 17), match='xyz modulators dd'>\n"
     ]
    }
   ],
   "source": [
    "import re\n",
    "from constants.patterns.intervention import PRIMARY_MECHANISM_BASE_TERMS\n",
    "\n",
    "from utils.re import get_or_re\n",
    "\n",
    "\n",
    "print(get_or_re(list(PRIMARY_MECHANISM_BASE_TERMS.values())))\n",
    "print(re.match(\".*\" + get_or_re(list(PRIMARY_MECHANISM_BASE_TERMS.values())) + \".*\", \"xyz modulators dd\", re.IGNORECASE))"
   ]
  }
 ],
 "metadata": {
  "kernelspec": {
   "display_name": "Python 3",
   "language": "python",
   "name": "python3"
  },
  "language_info": {
   "codemirror_mode": {
    "name": "ipython",
    "version": 3
   },
   "file_extension": ".py",
   "mimetype": "text/x-python",
   "name": "python",
   "nbconvert_exporter": "python",
   "pygments_lexer": "ipython3",
   "version": "3.11.4"
  }
 },
 "nbformat": 4,
 "nbformat_minor": 2
}
